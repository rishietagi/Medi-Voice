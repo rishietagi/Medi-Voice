{
 "cells": [
  {
   "cell_type": "code",
   "execution_count": 1,
   "id": "6b16ec9e",
   "metadata": {},
   "outputs": [],
   "source": [
    "import os\n",
    "import librosa\n",
    "import numpy as np\n",
    "import pandas as pd\n",
    "from tqdm import tqdm"
   ]
  },
  {
   "cell_type": "code",
   "execution_count": 2,
   "id": "7602d1ca",
   "metadata": {},
   "outputs": [],
   "source": [
    "AUDIO_ROOT = r\"C:\\Users\\Rishi S Etagi\\Desktop\\extracted_audio\\combined audio\"\n",
    "LABELS_CSV_PATH = r\"C:\\Users\\Rishi S Etagi\\Desktop\\medivoice\\combined_data_disease.csv\"\n",
    "OUTPUT_CSV_PATH = \"final_dataset.csv\""
   ]
  },
  {
   "cell_type": "code",
   "execution_count": 3,
   "id": "81c83a19",
   "metadata": {},
   "outputs": [],
   "source": [
    "def extract_features_from_audio(file_path):\n",
    "    try:\n",
    "        y, sr = librosa.load(file_path, sr=None)\n",
    "\n",
    "        mfcc = librosa.feature.mfcc(y=y, sr=sr, n_mfcc=13)\n",
    "        mfcc_mean = np.mean(mfcc, axis=1)\n",
    "\n",
    "        mel = librosa.feature.melspectrogram(y=y, sr=sr)\n",
    "        mel_mean = np.mean(mel, axis=1)[:13]  \n",
    "\n",
    "        pitch, _ = librosa.piptrack(y=y, sr=sr)\n",
    "        pitch_mean = np.mean(pitch[pitch > 0]) if np.any(pitch > 0) else 0\n",
    "\n",
    "        zcr = np.mean(librosa.feature.zero_crossing_rate(y))\n",
    "        spec_centroid = np.mean(librosa.feature.spectral_centroid(y=y, sr=sr))\n",
    "        spec_bw = np.mean(librosa.feature.spectral_bandwidth(y=y, sr=sr))\n",
    "        rolloff = np.mean(librosa.feature.spectral_rolloff(y=y, sr=sr))\n",
    "        rms = np.mean(librosa.feature.rms(y=y))\n",
    "\n",
    "        features = np.concatenate([\n",
    "            mfcc_mean,\n",
    "            mel_mean,\n",
    "            [pitch_mean, zcr, spec_centroid, spec_bw, rolloff, rms]\n",
    "        ])\n",
    "\n",
    "        return features\n",
    "\n",
    "    except Exception as e:\n",
    "        print(f\"Error processing {file_path}: {e}\")\n",
    "        return None\n"
   ]
  },
  {
   "cell_type": "code",
   "execution_count": 4,
   "id": "5e774b35",
   "metadata": {},
   "outputs": [],
   "source": [
    "def extract_features_per_folder(data_path):\n",
    "    all_features = []\n",
    "    folder_names = []\n",
    "\n",
    "    for folder in tqdm(os.listdir(data_path)):\n",
    "        folder_path = os.path.join(data_path, folder)\n",
    "        if not os.path.isdir(folder_path):\n",
    "            continue\n",
    "\n",
    "        folder_features = []\n",
    "\n",
    "        for file in os.listdir(folder_path):\n",
    "            if file.endswith(\".wav\"):\n",
    "                file_path = os.path.join(folder_path, file)\n",
    "                features = extract_features_from_audio(file_path)\n",
    "                if features is not None:\n",
    "                    folder_features.append(features)\n",
    "\n",
    "        if folder_features:\n",
    "            folder_features = np.mean(folder_features, axis=0)  \n",
    "            all_features.append(folder_features)\n",
    "            folder_names.append(folder)\n",
    "\n",
    "    features_df = pd.DataFrame(all_features)\n",
    "    features_df.insert(0, 'participant_id', folder_names)\n",
    "\n",
    "    return features_df\n"
   ]
  },
  {
   "cell_type": "code",
   "execution_count": 5,
   "id": "310187d1",
   "metadata": {},
   "outputs": [],
   "source": [
    "def preprocess_labels(labels_df):\n",
    "    labels_df.columns = labels_df.columns.str.lower().str.strip()\n",
    "\n",
    "    labels_df = labels_df.rename(columns={'a': 'age', 'g': 'gender'})\n",
    "\n",
    "    required_columns = ['id', 'age', 'gender', 'diabetes', 'ht', 'asthma', 'fever', 'smoker', 'cld', 'ihd']\n",
    "    labels_df = labels_df[required_columns]\n",
    "\n",
    "    labels_df['id'] = labels_df['id'].astype(str)\n",
    "    labels_df['gender'] = labels_df['gender'].map({'male': 0, 'female': 1})\n",
    "\n",
    "    bool_fields = ['diabetes', 'ht', 'asthma', 'fever', 'smoker', 'cld', 'ihd']\n",
    "    for col in bool_fields:\n",
    "        labels_df[col] = labels_df[col].fillna('').apply(lambda x: 1 if str(x).strip().lower() == 'true' else 0)\n",
    "\n",
    "    return labels_df\n"
   ]
  },
  {
   "cell_type": "code",
   "execution_count": 6,
   "id": "4349194b",
   "metadata": {},
   "outputs": [
    {
     "name": "stdout",
     "output_type": "stream",
     "text": [
      "Extracting features.\n"
     ]
    },
    {
     "name": "stderr",
     "output_type": "stream",
     "text": [
      " 12%|█▏        | 54/434 [01:56<11:36,  1.83s/it] c:\\Users\\Rishi S Etagi\\Desktop\\medivoice\\.venv\\Lib\\site-packages\\librosa\\core\\spectrum.py:266: UserWarning: n_fft=2048 is too large for input signal of length=0\n",
      "  warnings.warn(\n"
     ]
    },
    {
     "name": "stdout",
     "output_type": "stream",
     "text": [
      "Error processing C:\\Users\\Rishi S Etagi\\Desktop\\extracted_audio\\combined audio\\697xpWya0DbSEN4Y6tsEH3BchHw1\\breathing-deep.wav: can't extend empty axis 0 using modes other than 'constant' or 'empty'\n",
      "Error processing C:\\Users\\Rishi S Etagi\\Desktop\\extracted_audio\\combined audio\\697xpWya0DbSEN4Y6tsEH3BchHw1\\breathing-shallow.wav: can't extend empty axis 0 using modes other than 'constant' or 'empty'\n",
      "Error processing C:\\Users\\Rishi S Etagi\\Desktop\\extracted_audio\\combined audio\\697xpWya0DbSEN4Y6tsEH3BchHw1\\cough-heavy.wav: can't extend empty axis 0 using modes other than 'constant' or 'empty'\n",
      "Error processing C:\\Users\\Rishi S Etagi\\Desktop\\extracted_audio\\combined audio\\697xpWya0DbSEN4Y6tsEH3BchHw1\\cough-shallow.wav: can't extend empty axis 0 using modes other than 'constant' or 'empty'\n",
      "Error processing C:\\Users\\Rishi S Etagi\\Desktop\\extracted_audio\\combined audio\\697xpWya0DbSEN4Y6tsEH3BchHw1\\counting-fast.wav: can't extend empty axis 0 using modes other than 'constant' or 'empty'\n",
      "Error processing C:\\Users\\Rishi S Etagi\\Desktop\\extracted_audio\\combined audio\\697xpWya0DbSEN4Y6tsEH3BchHw1\\counting-normal.wav: can't extend empty axis 0 using modes other than 'constant' or 'empty'\n",
      "Error processing C:\\Users\\Rishi S Etagi\\Desktop\\extracted_audio\\combined audio\\697xpWya0DbSEN4Y6tsEH3BchHw1\\vowel-a.wav: can't extend empty axis 0 using modes other than 'constant' or 'empty'\n",
      "Error processing C:\\Users\\Rishi S Etagi\\Desktop\\extracted_audio\\combined audio\\697xpWya0DbSEN4Y6tsEH3BchHw1\\vowel-e.wav: can't extend empty axis 0 using modes other than 'constant' or 'empty'\n",
      "Error processing C:\\Users\\Rishi S Etagi\\Desktop\\extracted_audio\\combined audio\\697xpWya0DbSEN4Y6tsEH3BchHw1\\vowel-o.wav: can't extend empty axis 0 using modes other than 'constant' or 'empty'\n"
     ]
    },
    {
     "name": "stderr",
     "output_type": "stream",
     "text": [
      " 21%|██        | 89/434 [03:02<11:10,  1.94s/it]"
     ]
    },
    {
     "name": "stdout",
     "output_type": "stream",
     "text": [
      "Error processing C:\\Users\\Rishi S Etagi\\Desktop\\extracted_audio\\combined audio\\9Rhe6RDHuMNXaGiqKVaspw71Exo1\\breathing-deep.wav: can't extend empty axis 0 using modes other than 'constant' or 'empty'\n",
      "Error processing C:\\Users\\Rishi S Etagi\\Desktop\\extracted_audio\\combined audio\\9Rhe6RDHuMNXaGiqKVaspw71Exo1\\breathing-shallow.wav: can't extend empty axis 0 using modes other than 'constant' or 'empty'\n",
      "Error processing C:\\Users\\Rishi S Etagi\\Desktop\\extracted_audio\\combined audio\\9Rhe6RDHuMNXaGiqKVaspw71Exo1\\cough-heavy.wav: can't extend empty axis 0 using modes other than 'constant' or 'empty'\n",
      "Error processing C:\\Users\\Rishi S Etagi\\Desktop\\extracted_audio\\combined audio\\9Rhe6RDHuMNXaGiqKVaspw71Exo1\\cough-shallow.wav: can't extend empty axis 0 using modes other than 'constant' or 'empty'\n",
      "Error processing C:\\Users\\Rishi S Etagi\\Desktop\\extracted_audio\\combined audio\\9Rhe6RDHuMNXaGiqKVaspw71Exo1\\counting-fast.wav: can't extend empty axis 0 using modes other than 'constant' or 'empty'\n",
      "Error processing C:\\Users\\Rishi S Etagi\\Desktop\\extracted_audio\\combined audio\\9Rhe6RDHuMNXaGiqKVaspw71Exo1\\counting-normal.wav: can't extend empty axis 0 using modes other than 'constant' or 'empty'\n",
      "Error processing C:\\Users\\Rishi S Etagi\\Desktop\\extracted_audio\\combined audio\\9Rhe6RDHuMNXaGiqKVaspw71Exo1\\vowel-a.wav: can't extend empty axis 0 using modes other than 'constant' or 'empty'\n",
      "Error processing C:\\Users\\Rishi S Etagi\\Desktop\\extracted_audio\\combined audio\\9Rhe6RDHuMNXaGiqKVaspw71Exo1\\vowel-e.wav: can't extend empty axis 0 using modes other than 'constant' or 'empty'\n",
      "Error processing C:\\Users\\Rishi S Etagi\\Desktop\\extracted_audio\\combined audio\\9Rhe6RDHuMNXaGiqKVaspw71Exo1\\vowel-o.wav: can't extend empty axis 0 using modes other than 'constant' or 'empty'\n"
     ]
    },
    {
     "name": "stderr",
     "output_type": "stream",
     "text": [
      " 21%|██        | 91/434 [03:11<17:18,  3.03s/it]"
     ]
    },
    {
     "name": "stdout",
     "output_type": "stream",
     "text": [
      "Error processing C:\\Users\\Rishi S Etagi\\Desktop\\extracted_audio\\combined audio\\9XKj7fAmvwPUas9GFPZuTpev7T03\\breathing-deep.wav: can't extend empty axis 0 using modes other than 'constant' or 'empty'\n",
      "Error processing C:\\Users\\Rishi S Etagi\\Desktop\\extracted_audio\\combined audio\\9XKj7fAmvwPUas9GFPZuTpev7T03\\breathing-shallow.wav: can't extend empty axis 0 using modes other than 'constant' or 'empty'\n",
      "Error processing C:\\Users\\Rishi S Etagi\\Desktop\\extracted_audio\\combined audio\\9XKj7fAmvwPUas9GFPZuTpev7T03\\cough-heavy.wav: can't extend empty axis 0 using modes other than 'constant' or 'empty'\n",
      "Error processing C:\\Users\\Rishi S Etagi\\Desktop\\extracted_audio\\combined audio\\9XKj7fAmvwPUas9GFPZuTpev7T03\\cough-shallow.wav: can't extend empty axis 0 using modes other than 'constant' or 'empty'\n",
      "Error processing C:\\Users\\Rishi S Etagi\\Desktop\\extracted_audio\\combined audio\\9XKj7fAmvwPUas9GFPZuTpev7T03\\counting-fast.wav: can't extend empty axis 0 using modes other than 'constant' or 'empty'\n",
      "Error processing C:\\Users\\Rishi S Etagi\\Desktop\\extracted_audio\\combined audio\\9XKj7fAmvwPUas9GFPZuTpev7T03\\counting-normal.wav: can't extend empty axis 0 using modes other than 'constant' or 'empty'\n",
      "Error processing C:\\Users\\Rishi S Etagi\\Desktop\\extracted_audio\\combined audio\\9XKj7fAmvwPUas9GFPZuTpev7T03\\vowel-a.wav: can't extend empty axis 0 using modes other than 'constant' or 'empty'\n",
      "Error processing C:\\Users\\Rishi S Etagi\\Desktop\\extracted_audio\\combined audio\\9XKj7fAmvwPUas9GFPZuTpev7T03\\vowel-e.wav: can't extend empty axis 0 using modes other than 'constant' or 'empty'\n",
      "Error processing C:\\Users\\Rishi S Etagi\\Desktop\\extracted_audio\\combined audio\\9XKj7fAmvwPUas9GFPZuTpev7T03\\vowel-o.wav: can't extend empty axis 0 using modes other than 'constant' or 'empty'\n"
     ]
    },
    {
     "name": "stderr",
     "output_type": "stream",
     "text": [
      " 28%|██▊       | 120/434 [04:09<11:41,  2.23s/it]"
     ]
    },
    {
     "name": "stdout",
     "output_type": "stream",
     "text": [
      "Error processing C:\\Users\\Rishi S Etagi\\Desktop\\extracted_audio\\combined audio\\cbmcTV6z0NVgO0i6yeYyAO7AoI72\\breathing-deep.wav: can't extend empty axis 0 using modes other than 'constant' or 'empty'\n",
      "Error processing C:\\Users\\Rishi S Etagi\\Desktop\\extracted_audio\\combined audio\\cbmcTV6z0NVgO0i6yeYyAO7AoI72\\breathing-shallow.wav: can't extend empty axis 0 using modes other than 'constant' or 'empty'\n",
      "Error processing C:\\Users\\Rishi S Etagi\\Desktop\\extracted_audio\\combined audio\\cbmcTV6z0NVgO0i6yeYyAO7AoI72\\cough-heavy.wav: can't extend empty axis 0 using modes other than 'constant' or 'empty'\n",
      "Error processing C:\\Users\\Rishi S Etagi\\Desktop\\extracted_audio\\combined audio\\cbmcTV6z0NVgO0i6yeYyAO7AoI72\\cough-shallow.wav: can't extend empty axis 0 using modes other than 'constant' or 'empty'\n",
      "Error processing C:\\Users\\Rishi S Etagi\\Desktop\\extracted_audio\\combined audio\\cbmcTV6z0NVgO0i6yeYyAO7AoI72\\counting-fast.wav: can't extend empty axis 0 using modes other than 'constant' or 'empty'\n",
      "Error processing C:\\Users\\Rishi S Etagi\\Desktop\\extracted_audio\\combined audio\\cbmcTV6z0NVgO0i6yeYyAO7AoI72\\counting-normal.wav: can't extend empty axis 0 using modes other than 'constant' or 'empty'\n",
      "Error processing C:\\Users\\Rishi S Etagi\\Desktop\\extracted_audio\\combined audio\\cbmcTV6z0NVgO0i6yeYyAO7AoI72\\vowel-a.wav: can't extend empty axis 0 using modes other than 'constant' or 'empty'\n",
      "Error processing C:\\Users\\Rishi S Etagi\\Desktop\\extracted_audio\\combined audio\\cbmcTV6z0NVgO0i6yeYyAO7AoI72\\vowel-e.wav: can't extend empty axis 0 using modes other than 'constant' or 'empty'\n",
      "Error processing C:\\Users\\Rishi S Etagi\\Desktop\\extracted_audio\\combined audio\\cbmcTV6z0NVgO0i6yeYyAO7AoI72\\vowel-o.wav: can't extend empty axis 0 using modes other than 'constant' or 'empty'\n"
     ]
    },
    {
     "name": "stderr",
     "output_type": "stream",
     "text": [
      " 37%|███▋      | 161/434 [05:29<08:37,  1.89s/it]"
     ]
    },
    {
     "name": "stdout",
     "output_type": "stream",
     "text": [
      "Error processing C:\\Users\\Rishi S Etagi\\Desktop\\extracted_audio\\combined audio\\f9g4olEAspen4dJakQJsI2EME032\\breathing-deep.wav: can't extend empty axis 0 using modes other than 'constant' or 'empty'\n",
      "Error processing C:\\Users\\Rishi S Etagi\\Desktop\\extracted_audio\\combined audio\\f9g4olEAspen4dJakQJsI2EME032\\breathing-shallow.wav: can't extend empty axis 0 using modes other than 'constant' or 'empty'\n",
      "Error processing C:\\Users\\Rishi S Etagi\\Desktop\\extracted_audio\\combined audio\\f9g4olEAspen4dJakQJsI2EME032\\cough-heavy.wav: can't extend empty axis 0 using modes other than 'constant' or 'empty'\n",
      "Error processing C:\\Users\\Rishi S Etagi\\Desktop\\extracted_audio\\combined audio\\f9g4olEAspen4dJakQJsI2EME032\\counting-fast.wav: can't extend empty axis 0 using modes other than 'constant' or 'empty'\n",
      "Error processing C:\\Users\\Rishi S Etagi\\Desktop\\extracted_audio\\combined audio\\f9g4olEAspen4dJakQJsI2EME032\\counting-normal.wav: can't extend empty axis 0 using modes other than 'constant' or 'empty'\n",
      "Error processing C:\\Users\\Rishi S Etagi\\Desktop\\extracted_audio\\combined audio\\f9g4olEAspen4dJakQJsI2EME032\\vowel-a.wav: can't extend empty axis 0 using modes other than 'constant' or 'empty'\n"
     ]
    },
    {
     "name": "stderr",
     "output_type": "stream",
     "text": [
      " 37%|███▋      | 162/434 [05:29<06:19,  1.39s/it]"
     ]
    },
    {
     "name": "stdout",
     "output_type": "stream",
     "text": [
      "Error processing C:\\Users\\Rishi S Etagi\\Desktop\\extracted_audio\\combined audio\\f9g4olEAspen4dJakQJsI2EME032\\vowel-o.wav: can't extend empty axis 0 using modes other than 'constant' or 'empty'\n"
     ]
    },
    {
     "name": "stderr",
     "output_type": "stream",
     "text": [
      " 48%|████▊     | 210/434 [07:01<06:26,  1.72s/it]"
     ]
    },
    {
     "name": "stdout",
     "output_type": "stream",
     "text": [
      "Error processing C:\\Users\\Rishi S Etagi\\Desktop\\extracted_audio\\combined audio\\IVUrhfpO08QnE9S8UR1hk4DquTa2\\vowel-o.wav: can't extend empty axis 0 using modes other than 'constant' or 'empty'\n"
     ]
    },
    {
     "name": "stderr",
     "output_type": "stream",
     "text": [
      " 51%|█████     | 221/434 [07:24<07:01,  1.98s/it]"
     ]
    },
    {
     "name": "stdout",
     "output_type": "stream",
     "text": [
      "Error processing C:\\Users\\Rishi S Etagi\\Desktop\\extracted_audio\\combined audio\\jP5F3ypFwtN53rC9dVSUG8sMqHr2\\counting-fast.wav: can't extend empty axis 0 using modes other than 'constant' or 'empty'\n",
      "Error processing C:\\Users\\Rishi S Etagi\\Desktop\\extracted_audio\\combined audio\\jP5F3ypFwtN53rC9dVSUG8sMqHr2\\counting-normal.wav: can't extend empty axis 0 using modes other than 'constant' or 'empty'\n",
      "Error processing C:\\Users\\Rishi S Etagi\\Desktop\\extracted_audio\\combined audio\\jP5F3ypFwtN53rC9dVSUG8sMqHr2\\vowel-e.wav: can't extend empty axis 0 using modes other than 'constant' or 'empty'\n",
      "Error processing C:\\Users\\Rishi S Etagi\\Desktop\\extracted_audio\\combined audio\\jP5F3ypFwtN53rC9dVSUG8sMqHr2\\vowel-o.wav: can't extend empty axis 0 using modes other than 'constant' or 'empty'\n"
     ]
    },
    {
     "name": "stderr",
     "output_type": "stream",
     "text": [
      " 52%|█████▏    | 225/434 [07:32<07:17,  2.09s/it]"
     ]
    },
    {
     "name": "stdout",
     "output_type": "stream",
     "text": [
      "Error processing C:\\Users\\Rishi S Etagi\\Desktop\\extracted_audio\\combined audio\\jSb7SyucSmTHhzs3qQoBExRMQZ02\\cough-shallow.wav: can't extend empty axis 0 using modes other than 'constant' or 'empty'\n"
     ]
    },
    {
     "name": "stderr",
     "output_type": "stream",
     "text": [
      " 75%|███████▍  | 325/434 [10:41<04:03,  2.23s/it]"
     ]
    },
    {
     "name": "stdout",
     "output_type": "stream",
     "text": [
      "Error processing C:\\Users\\Rishi S Etagi\\Desktop\\extracted_audio\\combined audio\\sbdVe2aEGKeFcPXdhSf5QOuA5qA3\\breathing-deep.wav: can't extend empty axis 0 using modes other than 'constant' or 'empty'\n",
      "Error processing C:\\Users\\Rishi S Etagi\\Desktop\\extracted_audio\\combined audio\\sbdVe2aEGKeFcPXdhSf5QOuA5qA3\\breathing-shallow.wav: can't extend empty axis 0 using modes other than 'constant' or 'empty'\n",
      "Error processing C:\\Users\\Rishi S Etagi\\Desktop\\extracted_audio\\combined audio\\sbdVe2aEGKeFcPXdhSf5QOuA5qA3\\cough-heavy.wav: can't extend empty axis 0 using modes other than 'constant' or 'empty'\n",
      "Error processing C:\\Users\\Rishi S Etagi\\Desktop\\extracted_audio\\combined audio\\sbdVe2aEGKeFcPXdhSf5QOuA5qA3\\cough-shallow.wav: can't extend empty axis 0 using modes other than 'constant' or 'empty'\n",
      "Error processing C:\\Users\\Rishi S Etagi\\Desktop\\extracted_audio\\combined audio\\sbdVe2aEGKeFcPXdhSf5QOuA5qA3\\counting-fast.wav: can't extend empty axis 0 using modes other than 'constant' or 'empty'\n",
      "Error processing C:\\Users\\Rishi S Etagi\\Desktop\\extracted_audio\\combined audio\\sbdVe2aEGKeFcPXdhSf5QOuA5qA3\\counting-normal.wav: can't extend empty axis 0 using modes other than 'constant' or 'empty'\n",
      "Error processing C:\\Users\\Rishi S Etagi\\Desktop\\extracted_audio\\combined audio\\sbdVe2aEGKeFcPXdhSf5QOuA5qA3\\vowel-a.wav: can't extend empty axis 0 using modes other than 'constant' or 'empty'\n",
      "Error processing C:\\Users\\Rishi S Etagi\\Desktop\\extracted_audio\\combined audio\\sbdVe2aEGKeFcPXdhSf5QOuA5qA3\\vowel-e.wav: can't extend empty axis 0 using modes other than 'constant' or 'empty'\n",
      "Error processing C:\\Users\\Rishi S Etagi\\Desktop\\extracted_audio\\combined audio\\sbdVe2aEGKeFcPXdhSf5QOuA5qA3\\vowel-o.wav: can't extend empty axis 0 using modes other than 'constant' or 'empty'\n",
      "Error processing C:\\Users\\Rishi S Etagi\\Desktop\\extracted_audio\\combined audio\\SG95RAgm0wY3bzyIZPPSpHwyYuD3\\breathing-deep.wav: can't extend empty axis 0 using modes other than 'constant' or 'empty'\n",
      "Error processing C:\\Users\\Rishi S Etagi\\Desktop\\extracted_audio\\combined audio\\SG95RAgm0wY3bzyIZPPSpHwyYuD3\\breathing-shallow.wav: can't extend empty axis 0 using modes other than 'constant' or 'empty'\n",
      "Error processing C:\\Users\\Rishi S Etagi\\Desktop\\extracted_audio\\combined audio\\SG95RAgm0wY3bzyIZPPSpHwyYuD3\\cough-heavy.wav: can't extend empty axis 0 using modes other than 'constant' or 'empty'\n",
      "Error processing C:\\Users\\Rishi S Etagi\\Desktop\\extracted_audio\\combined audio\\SG95RAgm0wY3bzyIZPPSpHwyYuD3\\cough-shallow.wav: can't extend empty axis 0 using modes other than 'constant' or 'empty'\n",
      "Error processing C:\\Users\\Rishi S Etagi\\Desktop\\extracted_audio\\combined audio\\SG95RAgm0wY3bzyIZPPSpHwyYuD3\\counting-fast.wav: can't extend empty axis 0 using modes other than 'constant' or 'empty'\n",
      "Error processing C:\\Users\\Rishi S Etagi\\Desktop\\extracted_audio\\combined audio\\SG95RAgm0wY3bzyIZPPSpHwyYuD3\\counting-normal.wav: can't extend empty axis 0 using modes other than 'constant' or 'empty'\n",
      "Error processing C:\\Users\\Rishi S Etagi\\Desktop\\extracted_audio\\combined audio\\SG95RAgm0wY3bzyIZPPSpHwyYuD3\\vowel-a.wav: can't extend empty axis 0 using modes other than 'constant' or 'empty'\n",
      "Error processing C:\\Users\\Rishi S Etagi\\Desktop\\extracted_audio\\combined audio\\SG95RAgm0wY3bzyIZPPSpHwyYuD3\\vowel-e.wav: can't extend empty axis 0 using modes other than 'constant' or 'empty'\n",
      "Error processing C:\\Users\\Rishi S Etagi\\Desktop\\extracted_audio\\combined audio\\SG95RAgm0wY3bzyIZPPSpHwyYuD3\\vowel-o.wav: can't extend empty axis 0 using modes other than 'constant' or 'empty'\n"
     ]
    },
    {
     "name": "stderr",
     "output_type": "stream",
     "text": [
      " 79%|███████▉  | 345/434 [11:14<02:36,  1.76s/it]"
     ]
    },
    {
     "name": "stdout",
     "output_type": "stream",
     "text": [
      "Error processing C:\\Users\\Rishi S Etagi\\Desktop\\extracted_audio\\combined audio\\TLfuOcZh0HfnVRRdez4CxLFiPki2\\breathing-deep.wav: can't extend empty axis 0 using modes other than 'constant' or 'empty'\n",
      "Error processing C:\\Users\\Rishi S Etagi\\Desktop\\extracted_audio\\combined audio\\TLfuOcZh0HfnVRRdez4CxLFiPki2\\breathing-shallow.wav: can't extend empty axis 0 using modes other than 'constant' or 'empty'\n",
      "Error processing C:\\Users\\Rishi S Etagi\\Desktop\\extracted_audio\\combined audio\\TLfuOcZh0HfnVRRdez4CxLFiPki2\\cough-heavy.wav: can't extend empty axis 0 using modes other than 'constant' or 'empty'\n",
      "Error processing C:\\Users\\Rishi S Etagi\\Desktop\\extracted_audio\\combined audio\\TLfuOcZh0HfnVRRdez4CxLFiPki2\\cough-shallow.wav: can't extend empty axis 0 using modes other than 'constant' or 'empty'\n",
      "Error processing C:\\Users\\Rishi S Etagi\\Desktop\\extracted_audio\\combined audio\\TLfuOcZh0HfnVRRdez4CxLFiPki2\\counting-fast.wav: can't extend empty axis 0 using modes other than 'constant' or 'empty'\n",
      "Error processing C:\\Users\\Rishi S Etagi\\Desktop\\extracted_audio\\combined audio\\TLfuOcZh0HfnVRRdez4CxLFiPki2\\counting-normal.wav: can't extend empty axis 0 using modes other than 'constant' or 'empty'\n",
      "Error processing C:\\Users\\Rishi S Etagi\\Desktop\\extracted_audio\\combined audio\\TLfuOcZh0HfnVRRdez4CxLFiPki2\\vowel-a.wav: can't extend empty axis 0 using modes other than 'constant' or 'empty'\n",
      "Error processing C:\\Users\\Rishi S Etagi\\Desktop\\extracted_audio\\combined audio\\TLfuOcZh0HfnVRRdez4CxLFiPki2\\vowel-e.wav: can't extend empty axis 0 using modes other than 'constant' or 'empty'\n",
      "Error processing C:\\Users\\Rishi S Etagi\\Desktop\\extracted_audio\\combined audio\\TLfuOcZh0HfnVRRdez4CxLFiPki2\\vowel-o.wav: can't extend empty axis 0 using modes other than 'constant' or 'empty'\n"
     ]
    },
    {
     "name": "stderr",
     "output_type": "stream",
     "text": [
      " 80%|████████  | 348/434 [11:17<01:55,  1.34s/it]"
     ]
    },
    {
     "name": "stdout",
     "output_type": "stream",
     "text": [
      "Error processing C:\\Users\\Rishi S Etagi\\Desktop\\extracted_audio\\combined audio\\TRK6gUseEUS7dbF0soG80W1uLm53\\breathing-deep.wav: can't extend empty axis 0 using modes other than 'constant' or 'empty'\n",
      "Error processing C:\\Users\\Rishi S Etagi\\Desktop\\extracted_audio\\combined audio\\TRK6gUseEUS7dbF0soG80W1uLm53\\breathing-shallow.wav: can't extend empty axis 0 using modes other than 'constant' or 'empty'\n",
      "Error processing C:\\Users\\Rishi S Etagi\\Desktop\\extracted_audio\\combined audio\\TRK6gUseEUS7dbF0soG80W1uLm53\\cough-heavy.wav: can't extend empty axis 0 using modes other than 'constant' or 'empty'\n",
      "Error processing C:\\Users\\Rishi S Etagi\\Desktop\\extracted_audio\\combined audio\\TRK6gUseEUS7dbF0soG80W1uLm53\\cough-shallow.wav: can't extend empty axis 0 using modes other than 'constant' or 'empty'\n",
      "Error processing C:\\Users\\Rishi S Etagi\\Desktop\\extracted_audio\\combined audio\\TRK6gUseEUS7dbF0soG80W1uLm53\\counting-fast.wav: can't extend empty axis 0 using modes other than 'constant' or 'empty'\n",
      "Error processing C:\\Users\\Rishi S Etagi\\Desktop\\extracted_audio\\combined audio\\TRK6gUseEUS7dbF0soG80W1uLm53\\counting-normal.wav: can't extend empty axis 0 using modes other than 'constant' or 'empty'\n",
      "Error processing C:\\Users\\Rishi S Etagi\\Desktop\\extracted_audio\\combined audio\\TRK6gUseEUS7dbF0soG80W1uLm53\\vowel-a.wav: can't extend empty axis 0 using modes other than 'constant' or 'empty'\n",
      "Error processing C:\\Users\\Rishi S Etagi\\Desktop\\extracted_audio\\combined audio\\TRK6gUseEUS7dbF0soG80W1uLm53\\vowel-e.wav: can't extend empty axis 0 using modes other than 'constant' or 'empty'\n",
      "Error processing C:\\Users\\Rishi S Etagi\\Desktop\\extracted_audio\\combined audio\\TRK6gUseEUS7dbF0soG80W1uLm53\\vowel-o.wav: can't extend empty axis 0 using modes other than 'constant' or 'empty'\n"
     ]
    },
    {
     "name": "stderr",
     "output_type": "stream",
     "text": [
      " 85%|████████▌ | 371/434 [12:01<01:47,  1.71s/it]"
     ]
    },
    {
     "name": "stdout",
     "output_type": "stream",
     "text": [
      "Error processing C:\\Users\\Rishi S Etagi\\Desktop\\extracted_audio\\combined audio\\VcmjCfW6ddgE9lFhDXTO6hDlb452\\counting-fast.wav: can't extend empty axis 0 using modes other than 'constant' or 'empty'\n"
     ]
    },
    {
     "name": "stderr",
     "output_type": "stream",
     "text": [
      " 87%|████████▋ | 378/434 [12:19<02:15,  2.42s/it]"
     ]
    },
    {
     "name": "stdout",
     "output_type": "stream",
     "text": [
      "Error processing C:\\Users\\Rishi S Etagi\\Desktop\\extracted_audio\\combined audio\\Vq1h51z5x3Wp4wS2pCm6yEAZvu82\\breathing-deep.wav: can't extend empty axis 0 using modes other than 'constant' or 'empty'\n",
      "Error processing C:\\Users\\Rishi S Etagi\\Desktop\\extracted_audio\\combined audio\\Vq1h51z5x3Wp4wS2pCm6yEAZvu82\\breathing-shallow.wav: can't extend empty axis 0 using modes other than 'constant' or 'empty'\n",
      "Error processing C:\\Users\\Rishi S Etagi\\Desktop\\extracted_audio\\combined audio\\Vq1h51z5x3Wp4wS2pCm6yEAZvu82\\cough-heavy.wav: can't extend empty axis 0 using modes other than 'constant' or 'empty'\n",
      "Error processing C:\\Users\\Rishi S Etagi\\Desktop\\extracted_audio\\combined audio\\Vq1h51z5x3Wp4wS2pCm6yEAZvu82\\cough-shallow.wav: can't extend empty axis 0 using modes other than 'constant' or 'empty'\n",
      "Error processing C:\\Users\\Rishi S Etagi\\Desktop\\extracted_audio\\combined audio\\Vq1h51z5x3Wp4wS2pCm6yEAZvu82\\counting-fast.wav: can't extend empty axis 0 using modes other than 'constant' or 'empty'\n",
      "Error processing C:\\Users\\Rishi S Etagi\\Desktop\\extracted_audio\\combined audio\\Vq1h51z5x3Wp4wS2pCm6yEAZvu82\\counting-normal.wav: can't extend empty axis 0 using modes other than 'constant' or 'empty'\n",
      "Error processing C:\\Users\\Rishi S Etagi\\Desktop\\extracted_audio\\combined audio\\Vq1h51z5x3Wp4wS2pCm6yEAZvu82\\vowel-a.wav: can't extend empty axis 0 using modes other than 'constant' or 'empty'\n",
      "Error processing C:\\Users\\Rishi S Etagi\\Desktop\\extracted_audio\\combined audio\\Vq1h51z5x3Wp4wS2pCm6yEAZvu82\\vowel-e.wav: can't extend empty axis 0 using modes other than 'constant' or 'empty'\n",
      "Error processing C:\\Users\\Rishi S Etagi\\Desktop\\extracted_audio\\combined audio\\Vq1h51z5x3Wp4wS2pCm6yEAZvu82\\vowel-o.wav: can't extend empty axis 0 using modes other than 'constant' or 'empty'\n"
     ]
    },
    {
     "name": "stderr",
     "output_type": "stream",
     "text": [
      "100%|██████████| 434/434 [14:07<00:00,  1.95s/it]"
     ]
    },
    {
     "name": "stdout",
     "output_type": "stream",
     "text": [
      "Loading labels.\n",
      "Merging features with labels.\n",
      "Saving final dataset to: final_dataset.csv\n",
      "Done (425, 42)\n"
     ]
    },
    {
     "name": "stderr",
     "output_type": "stream",
     "text": [
      "\n"
     ]
    }
   ],
   "source": [
    "if __name__ == \"__main__\":\n",
    "    print(\"Extracting features.\")\n",
    "    features_df = extract_features_per_folder(AUDIO_ROOT)\n",
    "\n",
    "    print(\"Loading labels.\")\n",
    "    labels_df = pd.read_csv(LABELS_CSV_PATH)\n",
    "    labels_df = preprocess_labels(labels_df)\n",
    "\n",
    "    print(\"Merging features with labels.\")\n",
    "    features_df['participant_id'] = features_df['participant_id'].astype(str)\n",
    "    merged_df = pd.merge(features_df, labels_df, left_on='participant_id', right_on='id')\n",
    "    merged_df.drop(columns=['id'], inplace=True)\n",
    "\n",
    "    print(\"Saving final dataset to:\", OUTPUT_CSV_PATH)\n",
    "    merged_df.to_csv(OUTPUT_CSV_PATH, index=False)\n",
    "\n",
    "    print(\"Done\", merged_df.shape)"
   ]
  }
 ],
 "metadata": {
  "kernelspec": {
   "display_name": ".venv",
   "language": "python",
   "name": "python3"
  },
  "language_info": {
   "codemirror_mode": {
    "name": "ipython",
    "version": 3
   },
   "file_extension": ".py",
   "mimetype": "text/x-python",
   "name": "python",
   "nbconvert_exporter": "python",
   "pygments_lexer": "ipython3",
   "version": "3.12.0"
  }
 },
 "nbformat": 4,
 "nbformat_minor": 5
}
