{
 "cells": [
  {
   "cell_type": "code",
   "execution_count": null,
   "id": "ea23185f",
   "metadata": {},
   "outputs": [],
   "source": [
    "# Im adding the heart rate into the features extracted using a heuristic function based on these rules \n",
    "\n",
    "# Pitch (F0) — higher pitch means higher heart rate\n",
    "# Energy — louder speech means higher heart rate\n",
    "# Speaking rate — faster speech means higher heart rate"
   ]
  },
  {
   "cell_type": "code",
   "execution_count": 1,
   "id": "63d59686",
   "metadata": {},
   "outputs": [],
   "source": [
    "import numpy as np\n",
    "import pandas as pd"
   ]
  },
  {
   "cell_type": "code",
   "execution_count": 2,
   "id": "84633b92",
   "metadata": {},
   "outputs": [],
   "source": [
    "df = pd.read_csv(\"speech_features.csv\")"
   ]
  },
  {
   "cell_type": "code",
   "execution_count": null,
   "id": "ebbf6d21",
   "metadata": {},
   "outputs": [],
   "source": [
    "import numpy as np\n",
    "\n",
    "def simulate_heart_rate(row):\n",
    "    resting_hr = 65 + 10 * np.random.rand()  # variable resting HR between 65-75\n",
    "    \n",
    "    pitch_norm = min(max(row['pitch_mean'] / 250, 0), 1)\n",
    "    energy_norm = min(max(row['energy'] / 10, 0), 1)\n",
    "    rate_norm = min(max(row['speaking_rate'] / 5, 0), 1)\n",
    "    \n",
    "    pitch_effect = 20 / (1 + np.exp(-12 * (pitch_norm - 0.5)))\n",
    "    energy_effect = 15 * energy_norm ** 2\n",
    "    rate_effect = 10 * np.sqrt(rate_norm)\n",
    "    \n",
    "    interaction = 10 * pitch_norm * rate_norm\n",
    "    \n",
    "    hr = resting_hr + pitch_effect + energy_effect + rate_effect + interaction\n",
    "    \n",
    "    noise = np.random.normal(0, 3)\n",
    "    hr += noise\n",
    "    \n",
    "    return np.clip(hr, 50, 160)\n"
   ]
  },
  {
   "cell_type": "code",
   "execution_count": 7,
   "id": "4d8a3d7a",
   "metadata": {},
   "outputs": [
    {
     "name": "stdout",
     "output_type": "stream",
     "text": [
      "done.\n"
     ]
    }
   ],
   "source": [
    "df[\"simulated_hr\"] = df.apply(simulate_heart_rate, axis=1)\n",
    "\n",
    "df.to_csv(\"speech_features_with_hr.csv\", index=False)\n",
    "\n",
    "print(\"done.\")"
   ]
  }
 ],
 "metadata": {
  "kernelspec": {
   "display_name": ".venv",
   "language": "python",
   "name": "python3"
  },
  "language_info": {
   "codemirror_mode": {
    "name": "ipython",
    "version": 3
   },
   "file_extension": ".py",
   "mimetype": "text/x-python",
   "name": "python",
   "nbconvert_exporter": "python",
   "pygments_lexer": "ipython3",
   "version": "3.12.0"
  }
 },
 "nbformat": 4,
 "nbformat_minor": 5
}
