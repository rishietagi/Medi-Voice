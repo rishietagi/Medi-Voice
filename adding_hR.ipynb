{
 "cells": [
  {
   "cell_type": "code",
   "execution_count": 1,
   "id": "ea23185f",
   "metadata": {},
   "outputs": [],
   "source": [
    "# Im adding the heart rate into the features extracted using a heuristic function based on these rules \n",
    "\n",
    "# Pitch (F0) — higher pitch means higher heart rate\n",
    "# Energy — louder speech means higher heart rate\n",
    "# Speaking rate — faster speech means higher heart rate"
   ]
  },
  {
   "cell_type": "code",
   "execution_count": 2,
   "id": "63d59686",
   "metadata": {},
   "outputs": [],
   "source": [
    "import numpy as np\n",
    "import pandas as pd"
   ]
  },
  {
   "cell_type": "code",
   "execution_count": 3,
   "id": "84633b92",
   "metadata": {},
   "outputs": [],
   "source": [
    "df = pd.read_csv(\"speech_features.csv\")"
   ]
  },
  {
   "cell_type": "code",
   "execution_count": 8,
   "id": "f15280a1",
   "metadata": {},
   "outputs": [
    {
     "name": "stdout",
     "output_type": "stream",
     "text": [
      "pitch_max ~ 1912.8, energy_max ~ 30.1, rate_max ~ 10.9\n"
     ]
    }
   ],
   "source": [
    "pitch_max = np.percentile(df['pitch_mean'], 95)\n",
    "energy_max = np.percentile(df['energy'], 95)\n",
    "rate_max = np.percentile(df['speaking_rate'], 95)\n",
    "\n",
    "print(f\"pitch_max ~ {pitch_max:.1f}, energy_max ~ {energy_max:.1f}, rate_max ~ {rate_max:.1f}\")"
   ]
  },
  {
   "cell_type": "code",
   "execution_count": 12,
   "id": "ebbf6d21",
   "metadata": {},
   "outputs": [],
   "source": [
    "def simulate_heart_rate(row, pitch_max=1912.8, energy_max=30.1, rate_max=10.9):\n",
    "    resting_hr = 60  # more typical resting baseline\n",
    "    \n",
    "    # Normalize\n",
    "    pitch_norm = np.clip(row['pitch_mean'] / pitch_max, 0, 1)\n",
    "    energy_norm = np.clip(row['energy'] / energy_max, 0, 1)\n",
    "    rate_norm = np.clip(row['speaking_rate'] / rate_max, 0, 1)\n",
    "    \n",
    "    # Smaller effects with gentler curves\n",
    "    pitch_effect = 6 * np.tanh(2 * pitch_norm)         # max ~6 bpm\n",
    "    energy_effect = 5 * (energy_norm ** 1.3)           # max ~5 bpm\n",
    "    rate_effect = 7 * np.sqrt(rate_norm)                # max ~7 bpm\n",
    "    interaction = 4 * pitch_norm * rate_norm            # combined effect max ~4 bpm\n",
    "\n",
    "    hr = resting_hr + pitch_effect + energy_effect + rate_effect + interaction\n",
    "\n",
    "    # Slightly higher noise for natural spread\n",
    "    noise = np.random.normal(0, 5)\n",
    "    hr += noise\n",
    "\n",
    "    hr = np.clip(hr, 50, 110)  # clip to more plausible range for calm speech\n",
    "    \n",
    "    return hr\n"
   ]
  },
  {
   "cell_type": "code",
   "execution_count": 13,
   "id": "4d8a3d7a",
   "metadata": {},
   "outputs": [
    {
     "name": "stdout",
     "output_type": "stream",
     "text": [
      "done.\n"
     ]
    }
   ],
   "source": [
    "df[\"simulated_hr\"] = df.apply(simulate_heart_rate, axis=1)\n",
    "\n",
    "df.to_csv(\"speech_features_with_hr.csv\", index=False)\n",
    "\n",
    "print(\"done.\")"
   ]
  },
  {
   "cell_type": "code",
   "execution_count": 14,
   "id": "2d92161e",
   "metadata": {},
   "outputs": [
    {
     "data": {
      "image/png": "[encoded data removed]",
      "text/plain": [
       "<Figure size 640x480 with 1 Axes>"
      ]
     },
     "metadata": {},
     "output_type": "display_data"
    }
   ],
   "source": [
    "import matplotlib.pyplot as plt\n",
    "\n",
    "plt.hist(df['simulated_hr'], bins=50)\n",
    "plt.title(\"Simulated Heart Rate Distribution\")\n",
    "plt.xlabel(\"Heart Rate (bpm)\")\n",
    "plt.ylabel(\"Frequency\")\n",
    "plt.show()\n"
   ]
  }
 ],
 "metadata": {
  "kernelspec": {
   "display_name": ".venv",
   "language": "python",
   "name": "python3"
  },
  "language_info": {
   "codemirror_mode": {
    "name": "ipython",
    "version": 3
   },
   "file_extension": ".py",
   "mimetype": "text/x-python",
   "name": "python",
   "nbconvert_exporter": "python",
   "pygments_lexer": "ipython3",
   "version": "3.12.0"
  }
 },
 "nbformat": 4,
 "nbformat_minor": 5
}
