{
 "cells": [
  {
   "cell_type": "code",
   "execution_count": null,
   "id": "ea23185f",
   "metadata": {},
   "outputs": [],
   "source": [
    "# Im adding the heart rate into the features extracted using a heuristic function based on these rules \n",
    "\n",
    "# Pitch (F0) — higher pitch means higher heart rate\n",
    "# Energy — louder speech means higher heart rate\n",
    "# Speaking rate — faster speech means higher heart rate"
   ]
  },
  {
   "cell_type": "code",
   "execution_count": 1,
   "id": "63d59686",
   "metadata": {},
   "outputs": [],
   "source": [
    "import numpy as np\n",
    "import pandas as pd"
   ]
  },
  {
   "cell_type": "code",
   "execution_count": 2,
   "id": "84633b92",
   "metadata": {},
   "outputs": [],
   "source": [
    "df = pd.read_csv(\"speech_features.csv\")"
   ]
  },
  {
   "cell_type": "code",
   "execution_count": 6,
   "id": "ebbf6d21",
   "metadata": {},
   "outputs": [],
   "source": [
    "def simulate_heart_rate(row):\n",
    "    resting_hr = 70  \n",
    "\n",
    "    pitch_score = min(row['pitch_mean'] / 250, 1) if row['pitch_mean'] > 0 else 0\n",
    "    energy_score = min(row['energy'] / 10, 1) if row['energy'] > 0 else 0\n",
    "    rate_score = min(row['speaking_rate'] / 5, 1) if row['speaking_rate'] > 0 else 0\n",
    "\n",
    "    hr = resting_hr + 10 * pitch_score + 10 * energy_score + 10 * rate_score\n",
    "\n",
    "    return np.clip(hr, 60, 140)  "
   ]
  },
  {
   "cell_type": "code",
   "execution_count": 7,
   "id": "4d8a3d7a",
   "metadata": {},
   "outputs": [
    {
     "name": "stdout",
     "output_type": "stream",
     "text": [
      "done.\n"
     ]
    }
   ],
   "source": [
    "df[\"simulated_hr\"] = df.apply(simulate_heart_rate, axis=1)\n",
    "\n",
    "df.to_csv(\"speech_features_with_hr.csv\", index=False)\n",
    "\n",
    "print(\"done.\")"
   ]
  }
 ],
 "metadata": {
  "kernelspec": {
   "display_name": ".venv",
   "language": "python",
   "name": "python3"
  },
  "language_info": {
   "codemirror_mode": {
    "name": "ipython",
    "version": 3
   },
   "file_extension": ".py",
   "mimetype": "text/x-python",
   "name": "python",
   "nbconvert_exporter": "python",
   "pygments_lexer": "ipython3",
   "version": "3.12.0"
  }
 },
 "nbformat": 4,
 "nbformat_minor": 5
}
