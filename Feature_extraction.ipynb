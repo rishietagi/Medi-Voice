{
 "cells": [
  {
   "cell_type": "code",
   "execution_count": 1,
   "id": "3ec4c2c5",
   "metadata": {},
   "outputs": [
    {
     "name": "stderr",
     "output_type": "stream",
     "text": [
      "c:\\Users\\Rishi S Etagi\\Desktop\\medivoice\\.venv\\Lib\\site-packages\\tqdm\\auto.py:21: TqdmWarning: IProgress not found. Please update jupyter and ipywidgets. See https://ipywidgets.readthedocs.io/en/stable/user_install.html\n",
      "  from .autonotebook import tqdm as notebook_tqdm\n",
      "C:\\Python312\\Lib\\inspect.py:1004: UserWarning: Module 'speechbrain.pretrained' was deprecated, redirecting to 'speechbrain.inference'. Please update your script. This is a change from SpeechBrain 1.0. See: https://github.com/speechbrain/speechbrain/releases/tag/v1.0.0\n",
      "  if ismodule(module) and hasattr(module, '__file__'):\n",
      "C:\\Users\\Rishi S Etagi\\AppData\\Local\\Temp\\ipykernel_5660\\741766164.py:7: UserWarning: Module 'speechbrain.pretrained' was deprecated, redirecting to 'speechbrain.inference'. Please update your script. This is a change from SpeechBrain 1.0. See: https://github.com/speechbrain/speechbrain/releases/tag/v1.0.0\n",
      "  from speechbrain.pretrained import SpeakerRecognition # type:ignore\n"
     ]
    }
   ],
   "source": [
    "import os\n",
    "import librosa\n",
    "import numpy as np\n",
    "import pandas as pd\n",
    "from scipy.signal import find_peaks\n",
    "from tqdm import tqdm\n",
    "from speechbrain.pretrained import SpeakerRecognition # type:ignore \n",
    "import torchaudio\n",
    "import joblib\n",
    "from feat_gender import extract_features_from_audio\n"
   ]
  },
  {
   "cell_type": "code",
   "execution_count": 2,
   "id": "efe7b0d4",
   "metadata": {},
   "outputs": [],
   "source": [
    "AUDIO_DIR = r\"C:\\Users\\Rishi S Etagi\\Desktop\\medivoice\\LIBRI\"\n",
    "\n",
    "OUTPUT_CSV = \"speech_features.csv\""
   ]
  },
  {
   "cell_type": "code",
   "execution_count": 3,
   "id": "ae5e7a3f",
   "metadata": {},
   "outputs": [],
   "source": [
    "gender_model = joblib.load(\"gender_classifier.pkl\")\n",
    "gender_scaler = joblib.load(\"gender_scaler.pkl\")"
   ]
  },
  {
   "cell_type": "code",
   "execution_count": 4,
   "id": "40118072",
   "metadata": {},
   "outputs": [],
   "source": [
    "def predict_gender(filepath):\n",
    "    try:\n",
    "        gender_features = extract_features_from_audio(filepath)  \n",
    "\n",
    "        features_scaled = gender_scaler.transform(gender_features)\n",
    "\n",
    "        gender = gender_model.predict(features_scaled)[0]\n",
    "\n",
    "        return gender\n",
    "    except Exception as e:\n",
    "        print(f\"Error predicting gender for {filepath}: {e}\")\n",
    "        return \"unknown\""
   ]
  },
  {
   "cell_type": "code",
   "execution_count": 7,
   "id": "dd2c2344",
   "metadata": {},
   "outputs": [
    {
     "name": "stderr",
     "output_type": "stream",
     "text": [
      "100%|██████████| 2703/2703 [03:54<00:00, 11.53it/s]\n"
     ]
    }
   ],
   "source": [
    "def extract_features(filepath):\n",
    "    y, sr = librosa.load(filepath, sr=16000)\n",
    "\n",
    "    # MFCCs\n",
    "    mfccs = librosa.feature.mfcc(y=y, sr=sr, n_mfcc=13)\n",
    "    mfcc_mean = np.mean(mfccs, axis=1)\n",
    "\n",
    "    # Pitch-related features\n",
    "    pitches, magnitudes = librosa.piptrack(y=y, sr=sr)\n",
    "    pitch = pitches[magnitudes > np.median(magnitudes)]\n",
    "    pitch = pitch[pitch > 0]  # Filter out zeros\n",
    "\n",
    "    pitch_mean = np.mean(pitch) if len(pitch) > 0 else 0\n",
    "    pitch_min = np.min(pitch) if len(pitch) > 0 else 0\n",
    "    pitch_max = np.max(pitch) if len(pitch) > 0 else 0\n",
    "    pitch_depth = pitch_max - pitch_min\n",
    "\n",
    "    # Energy\n",
    "    energy = np.sum(librosa.feature.rms(y=y))\n",
    "\n",
    "    # Speaking Rate\n",
    "    envelope = np.abs(y)\n",
    "    peaks, _ = find_peaks(envelope, height=0.02, distance=1000)\n",
    "    duration = len(y) / sr\n",
    "    speaking_rate = len(peaks) / duration if duration > 0 else 0\n",
    "\n",
    "    # Mel-spectrogram (mean across time)\n",
    "    mel_spec = librosa.feature.melspectrogram(y=y, sr=sr, n_mels=40, fmax=8000)\n",
    "    mel_spec_db = librosa.power_to_db(mel_spec, ref=np.max)\n",
    "    mel_mean = np.mean(mel_spec_db, axis=1)[:10]  # Take first 10 coefficients\n",
    "\n",
    "    gender = predict_gender(filepath)\n",
    "\n",
    "    mfcc_dict = {f\"mfcc_{i+1}\": mfcc_mean[i] for i in range(len(mfcc_mean))}\n",
    "    mel_dict = {f\"mel_{i+1}\": mel_mean[i] for i in range(len(mel_mean))}\n",
    "\n",
    "    return {\n",
    "        \"filename\": os.path.basename(filepath),\n",
    "        \"pitch_mean\": pitch_mean,\n",
    "        \"pitch_min\": pitch_min,\n",
    "        \"pitch_max\": pitch_max,\n",
    "        \"pitch_depth\": pitch_depth,\n",
    "        \"energy\": energy,\n",
    "        \"speaking_rate\": speaking_rate,\n",
    "        \"gender\": gender,\n",
    "        **mfcc_dict,\n",
    "        **mel_dict\n",
    "    }\n",
    "\n",
    "# Extraction loop\n",
    "features = []\n",
    "for root, dirs, files in os.walk(AUDIO_DIR):\n",
    "    for file in tqdm(files):\n",
    "        if file.endswith(\".flac\"):\n",
    "            path = os.path.join(root, file)\n",
    "            try:\n",
    "                f = extract_features(path)\n",
    "                features.append(f)\n",
    "            except Exception as e:\n",
    "                print(f\"Error processing {file}: {e}\")"
   ]
  },
  {
   "cell_type": "code",
   "execution_count": 8,
   "id": "32456138",
   "metadata": {},
   "outputs": [],
   "source": [
    "df = pd.DataFrame(features)\n",
    "df.to_csv(OUTPUT_CSV, index=False)\n"
   ]
  },
  {
   "cell_type": "code",
   "execution_count": 9,
   "id": "44b4c954",
   "metadata": {},
   "outputs": [
    {
     "name": "stdout",
     "output_type": "stream",
     "text": [
      "gender\n",
      "female    2202\n",
      "male       501\n",
      "Name: count, dtype: int64\n"
     ]
    }
   ],
   "source": [
    "print(df['gender'].value_counts())\n"
   ]
  },
  {
   "cell_type": "code",
   "execution_count": 10,
   "id": "bf4069dd",
   "metadata": {},
   "outputs": [
    {
     "data": {
      "text/plain": [
       "['normalization_stats.pkl']"
      ]
     },
     "execution_count": 10,
     "metadata": {},
     "output_type": "execute_result"
    }
   ],
   "source": [
    "numeric_df = df.drop(columns=[\"filename\", \"gender\"])\n",
    "\n",
    "mean = numeric_df.mean().values\n",
    "std = numeric_df.std().values + 1e-8  \n",
    "\n",
    "import joblib\n",
    "joblib.dump({\"mean\": mean, \"std\": std}, \"normalization_stats.pkl\")\n",
    "\n"
   ]
  }
 ],
 "metadata": {
  "kernelspec": {
   "display_name": ".venv",
   "language": "python",
   "name": "python3"
  },
  "language_info": {
   "codemirror_mode": {
    "name": "ipython",
    "version": 3
   },
   "file_extension": ".py",
   "mimetype": "text/x-python",
   "name": "python",
   "nbconvert_exporter": "python",
   "pygments_lexer": "ipython3",
   "version": "3.12.0"
  }
 },
 "nbformat": 4,
 "nbformat_minor": 5
}
