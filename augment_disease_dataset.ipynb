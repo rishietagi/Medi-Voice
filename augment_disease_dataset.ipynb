{
 "cells": [
  {
   "cell_type": "code",
   "execution_count": 6,
   "id": "9689051b",
   "metadata": {},
   "outputs": [],
   "source": [
    "import pandas as pd\n",
    "import numpy as np\n",
    "from sklearn.preprocessing import StandardScaler\n",
    "import tensorflow as tf\n",
    "import os"
   ]
  },
  {
   "cell_type": "code",
   "execution_count": 7,
   "id": "dae8f5ba",
   "metadata": {},
   "outputs": [],
   "source": [
    "df = pd.read_csv(\"final_dataset.csv\")\n",
    "\n",
    "feature_cols = df.columns.drop(['participant_id', 'age', 'gender', 'diabetes', 'ht', 'asthma', 'fever', 'smoker', 'cld', 'ihd'])\n",
    "label_cols = ['diabetes', 'ht', 'asthma', 'fever', 'smoker', 'cld', 'ihd']\n",
    "\n",
    "scaler = StandardScaler()\n",
    "X = scaler.fit_transform(df[feature_cols])\n",
    "y = df[label_cols].values.astype(np.float32)\n",
    "\n",
    "noise_dim = 100\n",
    "label_dim = y.shape[1]\n",
    "feature_dim = X.shape[1]"
   ]
  },
  {
   "cell_type": "code",
   "execution_count": 8,
   "id": "ad7db5dc",
   "metadata": {},
   "outputs": [],
   "source": [
    "def build_generator():\n",
    "    label_input = tf.keras.Input(shape=(label_dim,))\n",
    "    noise_input = tf.keras.Input(shape=(noise_dim,))\n",
    "    merged = tf.keras.layers.Concatenate()([noise_input, label_input])\n",
    "    x = tf.keras.layers.Dense(128, activation='relu')(merged)\n",
    "    x = tf.keras.layers.Dense(256, activation='relu')(x)\n",
    "    output = tf.keras.layers.Dense(feature_dim)(x)\n",
    "    return tf.keras.Model([noise_input, label_input], output)\n",
    "\n",
    "def build_discriminator():\n",
    "    label_input = tf.keras.Input(shape=(label_dim,))\n",
    "    feature_input = tf.keras.Input(shape=(feature_dim,))\n",
    "    merged = tf.keras.layers.Concatenate()([feature_input, label_input])\n",
    "    x = tf.keras.layers.Dense(256, activation='relu')(merged)\n",
    "    x = tf.keras.layers.Dense(128, activation='relu')(x)\n",
    "    output = tf.keras.layers.Dense(1, activation='sigmoid')(x)\n",
    "    return tf.keras.Model([feature_input, label_input], output)\n"
   ]
  },
  {
   "cell_type": "code",
   "execution_count": 9,
   "id": "f01dcb4d",
   "metadata": {},
   "outputs": [],
   "source": [
    "generator = build_generator()\n",
    "discriminator = build_discriminator()\n",
    "discriminator.compile(optimizer='adam', loss='binary_crossentropy')\n",
    "\n",
    "noise = tf.keras.Input(shape=(noise_dim,))\n",
    "label = tf.keras.Input(shape=(label_dim,))\n",
    "gen_features = generator([noise, label])\n",
    "discriminator.trainable = False\n",
    "validity = discriminator([gen_features, label])\n",
    "combined = tf.keras.Model([noise, label], validity)\n",
    "combined.compile(optimizer='adam', loss='binary_crossentropy')"
   ]
  },
  {
   "cell_type": "code",
   "execution_count": 10,
   "id": "d58c5354",
   "metadata": {},
   "outputs": [
    {
     "name": "stderr",
     "output_type": "stream",
     "text": [
      "c:\\Users\\Rishi S Etagi\\Desktop\\medivoice\\.venv\\Lib\\site-packages\\keras\\src\\backend\\tensorflow\\trainer.py:83: UserWarning: The model does not have any trainable weights.\n",
      "  warnings.warn(\"The model does not have any trainable weights.\")\n"
     ]
    },
    {
     "name": "stdout",
     "output_type": "stream",
     "text": [
      "0 [D loss: 0.8044] [G loss: 0.6735]\n",
      "500 [D loss: 5.2309] [G loss: 0.0089]\n",
      "1000 [D loss: 5.8175] [G loss: 0.0045]\n",
      "1500 [D loss: 6.1939] [G loss: 0.0030]\n",
      "2000 [D loss: 6.4760] [G loss: 0.0022]\n",
      "2500 [D loss: 6.7069] [G loss: 0.0018]\n",
      "3000 [D loss: 6.9027] [G loss: 0.0015]\n",
      "3500 [D loss: 7.0772] [G loss: 0.0013]\n",
      "4000 [D loss: 7.2323] [G loss: 0.0011]\n",
      "4500 [D loss: 7.3756] [G loss: 0.0010]\n"
     ]
    }
   ],
   "source": [
    "batch_size = 64\n",
    "epochs = 5000\n",
    "half_batch = batch_size // 2\n",
    "\n",
    "for epoch in range(epochs):\n",
    "    idx = np.random.randint(0, X.shape[0], half_batch)\n",
    "    real_features = X[idx]\n",
    "    real_labels = y[idx]\n",
    "\n",
    "    noise = np.random.normal(0, 1, (half_batch, noise_dim))\n",
    "    fake_features = generator.predict([noise, real_labels], verbose=0)\n",
    "\n",
    "    d_loss_real = discriminator.train_on_batch([real_features, real_labels], np.ones((half_batch, 1)))\n",
    "    d_loss_fake = discriminator.train_on_batch([fake_features, real_labels], np.zeros((half_batch, 1)))\n",
    "    d_loss = 0.5 * np.add(d_loss_real, d_loss_fake)\n",
    "\n",
    "    noise = np.random.normal(0, 1, (batch_size, noise_dim))\n",
    "    sampled_labels = y[np.random.randint(0, y.shape[0], batch_size)]\n",
    "    g_loss = combined.train_on_batch([noise, sampled_labels], np.ones((batch_size, 1)))\n",
    "\n",
    "    if epoch % 500 == 0:\n",
    "        print(f\"{epoch} [D loss: {d_loss:.4f}] [G loss: {g_loss:.4f}]\")\n"
   ]
  },
  {
   "cell_type": "code",
   "execution_count": null,
   "id": "fc542e06",
   "metadata": {},
   "outputs": [
    {
     "name": "stdout",
     "output_type": "stream",
     "text": [
      "✅ Synthetic data saved as 'synthetic_cgan_data.csv'\n"
     ]
    }
   ],
   "source": [
    "synthetic_rows = 1000\n",
    "noise = np.random.normal(0, 1, (synthetic_rows, noise_dim))\n",
    "sampled_indices = np.random.randint(0, y.shape[0], synthetic_rows)\n",
    "sampled_labels = y[sampled_indices]\n",
    "\n",
    "gen_data = generator.predict([noise, sampled_labels], verbose=0)\n",
    "gen_data = scaler.inverse_transform(gen_data)\n",
    "\n",
    "synthetic_df = pd.DataFrame(gen_data, columns=feature_cols)\n",
    "synthetic_df[label_cols] = sampled_labels\n",
    "synthetic_df.insert(0, 'participant_id', [f'synthetic_{i}' for i in range(synthetic_rows)])\n",
    "\n",
    "synthetic_df.to_csv(\"synthetic_cgan_data.csv\", index=False)\n",
    "print(\"✅ Synthetic data saved as 'synthetic_cgan_data.csv'\")"
   ]
  },
  {
   "cell_type": "code",
   "execution_count": 12,
   "id": "096cfa04",
   "metadata": {},
   "outputs": [
    {
     "name": "stdout",
     "output_type": "stream",
     "text": [
      "✅ Merged dataset saved as 'merged_dataset.csv'\n"
     ]
    }
   ],
   "source": [
    "import pandas as pd\n",
    "\n",
    "\n",
    "real_df = pd.read_csv(\"final_dataset.csv\")\n",
    "synthetic_df = pd.read_csv(\"synthetic_cgan_data.csv\")\n",
    "\n",
    "real_df = real_df[synthetic_df.columns]  \n",
    "merged_df = pd.concat([real_df, synthetic_df], ignore_index=True)\n",
    "\n",
    "merged_df.to_csv(\"merged_dataset.csv\", index=False)\n",
    "print(\"✅ Merged dataset saved as 'merged_dataset.csv'\")\n"
   ]
  },
  {
   "cell_type": "code",
   "execution_count": null,
   "id": "fc414ef4",
   "metadata": {},
   "outputs": [
    {
     "name": "stdout",
     "output_type": "stream",
     "text": [
      "📊 Label Distribution:\n",
      "\n",
      "smoker      102\n",
      "ht           92\n",
      "asthma       79\n",
      "diabetes     55\n",
      "fever         6\n",
      "cld           6\n",
      "ihd           6\n",
      "dtype: int64\n"
     ]
    },
    {
     "data": {
      "image/png": "[encoded data removed]",
      "text/plain": [
       "<Figure size 1000x500 with 1 Axes>"
      ]
     },
     "metadata": {},
     "output_type": "display_data"
    }
   ],
   "source": [
    "import pandas as pd\n",
    "import matplotlib.pyplot as plt\n",
    "\n",
    "df = pd.read_csv(\"merged_dataset.csv\")\n",
    "\n",
    "label_cols = ['diabetes', 'ht', 'asthma', 'fever', 'smoker', 'cld', 'ihd']\n",
    "\n",
    "df[label_cols] = df[label_cols].apply(pd.to_numeric, errors='coerce').fillna(0).astype(int)\n",
    "\n",
    "label_distribution = df[label_cols].sum().sort_values(ascending=False)\n",
    "\n",
    "print(\"📊 Label Distribution:\\n\")\n",
    "print(label_distribution)\n",
    "\n",
    "plt.figure(figsize=(10, 5))\n",
    "label_distribution.plot(kind='bar', color='skyblue')\n",
    "plt.title(\"Label Distribution\")\n",
    "plt.ylabel(\"Number of Samples\")\n",
    "plt.xlabel(\"Health Conditions\")\n",
    "plt.grid(axis='y', linestyle='--', alpha=0.7)\n",
    "plt.tight_layout()\n",
    "plt.show()\n"
   ]
  }
 ],
 "metadata": {
  "kernelspec": {
   "display_name": ".venv",
   "language": "python",
   "name": "python3"
  },
  "language_info": {
   "codemirror_mode": {
    "name": "ipython",
    "version": 3
   },
   "file_extension": ".py",
   "mimetype": "text/x-python",
   "name": "python",
   "nbconvert_exporter": "python",
   "pygments_lexer": "ipython3",
   "version": "3.12.0"
  }
 },
 "nbformat": 4,
 "nbformat_minor": 5
}
